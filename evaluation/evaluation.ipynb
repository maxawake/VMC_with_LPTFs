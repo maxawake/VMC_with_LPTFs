{
 "cells": [
  {
   "cell_type": "code",
   "execution_count": null,
   "metadata": {},
   "outputs": [],
   "source": [
    "import h5py\n",
    "import numpy as np\n",
    "import matplotlib.pyplot as plt\n",
    "\n",
    "data = h5py.File('/home/max/Mount/VMC_with_LPTFs/output_8x8/Ising/64-B=512-K=2562x2/3/samples.h5', 'r')\n",
    "print(len(data.keys()))"
   ]
  },
  {
   "cell_type": "code",
   "execution_count": null,
   "metadata": {},
   "outputs": [],
   "source": [
    "every = 1\n",
    "for step in range(len(data.keys()))[::every]:\n",
    "    # Average over the batch dimension and reshape to square lattice\n",
    "    samples_avg = np.mean(np.array(data[f\"step_{step:05d}\"]), axis=0).reshape(8,8, order=\"C\")\n",
    "    \n",
    "    # Plot the average lattice\n",
    "    plt.imshow(samples_avg, cmap='gray')\n",
    "    plt.xlabel(\"x\")\n",
    "    plt.ylabel(\"y\")\n",
    "    plt.title(f\"Lattice Step {step}\")\n",
    "    plt.grid()\n",
    "    plt.show()"
   ]
  },
  {
   "cell_type": "code",
   "execution_count": null,
   "metadata": {},
   "outputs": [],
   "source": []
  }
 ],
 "metadata": {
  "kernelspec": {
   "display_name": "work",
   "language": "python",
   "name": "python3"
  },
  "language_info": {
   "codemirror_mode": {
    "name": "ipython",
    "version": 3
   },
   "file_extension": ".py",
   "mimetype": "text/x-python",
   "name": "python",
   "nbconvert_exporter": "python",
   "pygments_lexer": "ipython3",
   "version": "3.11.4"
  }
 },
 "nbformat": 4,
 "nbformat_minor": 2
}
